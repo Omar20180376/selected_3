{
  "cells": [
    {
      "cell_type": "code",
      "execution_count": 28,
      "metadata": {
        "colab": {
          "base_uri": "https://localhost:8080/"
        },
        "id": "-_uNaE_2_nP6",
        "outputId": "becab3c1-d928-44e0-a45d-6c69f5454ba8"
      },
      "outputs": [
        {
          "output_type": "stream",
          "name": "stdout",
          "text": [
            "Requirement already satisfied: bs4 in /usr/local/lib/python3.7/dist-packages (0.0.1)\n",
            "Requirement already satisfied: beautifulsoup4 in /usr/local/lib/python3.7/dist-packages (from bs4) (4.6.3)\n"
          ]
        }
      ],
      "source": [
        "!pip install bs4"
      ]
    },
    {
      "cell_type": "code",
      "execution_count": 29,
      "metadata": {
        "colab": {
          "base_uri": "https://localhost:8080/"
        },
        "id": "fA0N02Xc3711",
        "outputId": "708881c5-62b3-4f6c-8ae7-14c7bdccae16"
      },
      "outputs": [
        {
          "output_type": "stream",
          "name": "stdout",
          "text": [
            "Requirement already satisfied: ar-corrector in /usr/local/lib/python3.7/dist-packages (1.1.6)\n",
            "Requirement already satisfied: requests in /usr/local/lib/python3.7/dist-packages (from ar-corrector) (2.23.0)\n",
            "Requirement already satisfied: urllib3!=1.25.0,!=1.25.1,<1.26,>=1.21.1 in /usr/local/lib/python3.7/dist-packages (from requests->ar-corrector) (1.24.3)\n",
            "Requirement already satisfied: idna<3,>=2.5 in /usr/local/lib/python3.7/dist-packages (from requests->ar-corrector) (2.10)\n",
            "Requirement already satisfied: chardet<4,>=3.0.2 in /usr/local/lib/python3.7/dist-packages (from requests->ar-corrector) (3.0.4)\n",
            "Requirement already satisfied: certifi>=2017.4.17 in /usr/local/lib/python3.7/dist-packages (from requests->ar-corrector) (2021.10.8)\n"
          ]
        }
      ],
      "source": [
        "!pip install ar-corrector"
      ]
    },
    {
      "cell_type": "code",
      "execution_count": 30,
      "metadata": {
        "colab": {
          "base_uri": "https://localhost:8080/"
        },
        "id": "19sm3x-f-qdH",
        "outputId": "ef95dd7d-e70b-46b0-9e41-c2bde23ba98f"
      },
      "outputs": [
        {
          "output_type": "stream",
          "name": "stdout",
          "text": [
            "Requirement already satisfied: beautifulsoup4 in /usr/local/lib/python3.7/dist-packages (4.6.3)\n"
          ]
        }
      ],
      "source": [
        "!pip install beautifulsoup4"
      ]
    },
    {
      "cell_type": "code",
      "execution_count": 31,
      "metadata": {
        "id": "Bg-FH-4r_V5d"
      },
      "outputs": [],
      "source": [
        "import requests\n",
        "from bs4 import BeautifulSoup \n",
        "import csv\n",
        "import pandas as pd\n",
        "from ar_corrector.corrector import Corrector\n",
        "corr = Corrector()"
      ]
    },
    {
      "cell_type": "code",
      "execution_count": 32,
      "metadata": {
        "id": "95nLjRhAoXEH"
      },
      "outputs": [],
      "source": [
        "# Get the data of book card \n",
        "books_name_list = []\n",
        "books_author_list = []\n",
        "Books_links_list = []\n",
        "# Get the detailed data of book card\n",
        "author_link_list = []\n",
        "department_link_list = []\n",
        "language = []\n",
        "no_pages = []\n",
        "publishing_house = []\n",
        "size_of_book = []\n",
        "type_of_book = []\n",
        "summary_of_books_list = []\n",
        "\n",
        "#Clean data\n",
        "for page_number in range(1,2):\n",
        "  \n",
        "    result = requests.get(f\"https://www.arab-books.com//page/{page_number}\")\n",
        "    # print result displayed response : 200 succeed \n",
        "\n",
        "    src = result.content\n",
        "    # print(src) will display \n",
        "\n",
        "    # to extract data\n",
        "    soup = BeautifulSoup(src,'lxml')\n",
        "    #--------------------------------------\n",
        "\n",
        "    # Get markup tags of required data from site \n",
        "    #book names\n",
        "    #books_name = soup.find_all('h3',{'class':'post-title'})\n",
        "    #corr.contextual_correct(books_name)\n",
        "    #print(books_name)\n",
        "    #----------------------------\n",
        "    Books_links = soup.find_all('a',{'class':'post-thumb'})\n",
        "    #print(Books_links)\n",
        "    #----------------------------\n",
        "    #author\n",
        "    #books_author = soup.find_all('div',{'class':'book-writer'})\n",
        "    #corr.contextual_correct(books_author)\n",
        "    #print(books_author)\n",
        "    #----------------------------\n",
        "\n",
        "\n",
        "    for i in range(len(Books_links)):\n",
        "\n",
        "        Books_links_list.append(Books_links[i].attrs[\"href\"])\n",
        "\n",
        "\n",
        "\n",
        "   \n",
        "  \n"
      ]
    },
    {
      "cell_type": "code",
      "execution_count": 33,
      "metadata": {
        "id": "QX7HpNsiu3WS"
      },
      "outputs": [],
      "source": [
        "\n",
        "# Get data of every link\n",
        "for link in Books_links_list:\n",
        "    \n",
        "    result = requests.get(link)\n",
        "    src = result.content\n",
        "    soup = BeautifulSoup(src,\"lxml\")\n",
        "\n",
        "    #Get info\n",
        "    info_of_book = BeautifulSoup(str(soup.find_all(\"div\",attrs={\"class\":\"book-info\"})))\n",
        "    ul = info_of_book.find('ul')\n",
        "    #ul = BeautifulSoup(info_of_book).find('ul')\n",
        "    #ul = BeautifulSoup(ul)\n",
        "    if ul is not None:\n",
        "      li = ul.find_all(\"li\")\n",
        "    else: continue\n",
        "    li = ul.find_all(\"li\")\n",
        "    a = info_of_book.find_all(\"a\")\n",
        "\n",
        "\n",
        "\n",
        "    # Get link of author info\n",
        "    books_author_list.append(a[0].text)\n",
        "    books_author_list = [item.replace(\"كتب الكاتب\",\"\") for item in books_author_list ]\n",
        "    #corr.contextual_correct(books_author_list[i])\n",
        "    # Get link of department \n",
        "    \n",
        "    \n",
        "    if len(a) > 3:\n",
        "        department_link_list.append(a[2].text+\"-\"+a[3].text)\n",
        "        \n",
        "    else:\n",
        "        department_link_list.append(a[1].text)\n",
        "        \n",
        "    department_link_list = [item.replace(\"تحميل\",\" \") for item in department_link_list ]\n",
        "    department_link_list = [item.replace(\"اضغط هنا\",\"\") for item in department_link_list ]\n",
        "    # Get the language of the book\n",
        "    language.append(li[2].text)\n",
        "    #language = [item.replace(\"لغة الكتاب:\",\"\") for item in language]\n",
        "    \n",
        "    #language_list = language.replace(\"لغة الكتاب:\",\" \")\n",
        "    # Get no of pages\n",
        "    no_pages.append(li[3].text)\n",
        "    no_pages = [item.replace(\"عدد الصّفحات:\",\"\") for item in no_pages ]\n",
        "    \n",
        "    # Get the publishing_house \n",
        "    publishing_house.append(li[4].text)\n",
        "    publishing_house = [item.replace(\"دار النشر:\",'') for item in publishing_house ]\n",
        "    # Get size of book\n",
        "    size_of_book.append(li[5].text)\n",
        "    size_of_book = [item.replace(\"حجم الكتاب:\",\"\") for item in size_of_book]\n",
        "    # Get type of book\n",
        "    type_of_book.append(li[6].text)\n",
        "    #type_of_book = [item.replace(\"ملف الكتاب:\",\"\") for item in type_of_book]\n",
        "    #-------------------------------------------------------------------------------\n",
        "    div_of_sum_books = soup.find(\"div\",{\"id\":\"books-content\"})\n",
        "    p = div_of_sum_books.find_all(\"p\")\n",
        "    \n",
        "    if len(p) > 5:\n",
        "        #corr.contextual_correct(p[2].text+p[3].text)\n",
        "        summary_of_books_list.append(corr.contextual_correct(p[2].text+p[3].text))\n",
        "    else:\n",
        "    \n",
        "        corr.contextual_correct(p[1].text)\n",
        "        summary_of_books_list.append(corr.contextual_correct(p[1].text))\n",
        "    \n",
        "    #print(summary_of_books_list)        \n"
      ]
    },
    {
      "cell_type": "code",
      "execution_count": 34,
      "metadata": {
        "id": "ZikyA2DlN2XS"
      },
      "outputs": [],
      "source": [
        "#file_list = [books_name_list,books_author_list]\n",
        "#exported = zip_longest(*file_list) # to make data of name inder name and dats of author under author\n",
        "#with open(\"sample_data/data.csv\",\"w\",encoding=\"utf-8\") as myfile:\n",
        " # wr = csv.writer(myfile)\n",
        "  #wr.writerow([\"name\",\"author\"])\n",
        "  #wr.writerows(exported)\n",
        "\n",
        "df = pd.DataFrame(list(zip(books_author_list,department_link_list,no_pages,publishing_house,size_of_book,summary_of_books_list)),columns =[  'الكاتب',  'قسم الكتاب','عدد الصفحات' , 'دار النشر' , 'حجم الكتاب','تلخيص الكتاب'])\n",
        "df.to_csv('sample_data/test1.csv',index=False,header=True,encoding=\"UTF-8\")"
      ]
    },
    {
      "cell_type": "code",
      "execution_count": 34,
      "metadata": {
        "id": "bl9kId2RZel3"
      },
      "outputs": [],
      "source": [
        ""
      ]
    }
  ],
  "metadata": {
    "colab": {
      "collapsed_sections": [],
      "name": "selected_3_real_final.ipynb",
      "provenance": []
    },
    "kernelspec": {
      "display_name": "Python 3 (ipykernel)",
      "language": "python",
      "name": "python3"
    },
    "language_info": {
      "codemirror_mode": {
        "name": "ipython",
        "version": 3
      },
      "file_extension": ".py",
      "mimetype": "text/x-python",
      "name": "python",
      "nbconvert_exporter": "python",
      "pygments_lexer": "ipython3",
      "version": "3.8.12"
    }
  },
  "nbformat": 4,
  "nbformat_minor": 0
}